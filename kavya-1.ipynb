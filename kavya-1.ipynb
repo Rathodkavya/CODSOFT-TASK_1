{
 "cells": [
  {
   "cell_type": "code",
   "execution_count": 1,
   "id": "20623bca",
   "metadata": {
    "_cell_guid": "b1076dfc-b9ad-4769-8c92-a6c4dae69d19",
    "_uuid": "8f2839f25d086af736a60e9eeb907d3b93b6e0e5",
    "execution": {
     "iopub.execute_input": "2024-06-22T17:16:24.985423Z",
     "iopub.status.busy": "2024-06-22T17:16:24.985034Z",
     "iopub.status.idle": "2024-06-22T17:16:25.882874Z",
     "shell.execute_reply": "2024-06-22T17:16:25.881709Z"
    },
    "papermill": {
     "duration": 0.913603,
     "end_time": "2024-06-22T17:16:25.885977",
     "exception": false,
     "start_time": "2024-06-22T17:16:24.972374",
     "status": "completed"
    },
    "tags": []
   },
   "outputs": [
    {
     "name": "stdout",
     "output_type": "stream",
     "text": [
      "/kaggle/input/creditcardfraud/creditcard.csv\n"
     ]
    }
   ],
   "source": [
    "# This Python 3 environment comes with many helpful analytics libraries installed\n",
    "# It is defined by the kaggle/python Docker image: https://github.com/kaggle/docker-python\n",
    "# For example, here's several helpful packages to load\n",
    "\n",
    "import numpy as np # linear algebra\n",
    "import pandas as pd # data processing, CSV file I/O (e.g. pd.read_csv)\n",
    "\n",
    "# Input data files are available in the read-only \"../input/\" directory\n",
    "# For example, running this (by clicking run or pressing Shift+Enter) will list all files under the input directory\n",
    "\n",
    "import os\n",
    "for dirname, _, filenames in os.walk('/kaggle/input'):\n",
    "    for filename in filenames:\n",
    "        print(os.path.join(dirname, filename))\n",
    "\n",
    "# You can write up to 20GB to the current directory (/kaggle/working/) that gets preserved as output when you create a version using \"Save & Run All\" \n",
    "# You can also write temporary files to /kaggle/temp/, but they won't be saved outside of the current session"
   ]
  },
  {
   "cell_type": "code",
   "execution_count": 2,
   "id": "d54b2efe",
   "metadata": {
    "execution": {
     "iopub.execute_input": "2024-06-22T17:16:25.910026Z",
     "iopub.status.busy": "2024-06-22T17:16:25.909527Z",
     "iopub.status.idle": "2024-06-22T17:16:27.300120Z",
     "shell.execute_reply": "2024-06-22T17:16:27.298940Z"
    },
    "papermill": {
     "duration": 1.405937,
     "end_time": "2024-06-22T17:16:27.303305",
     "exception": false,
     "start_time": "2024-06-22T17:16:25.897368",
     "status": "completed"
    },
    "tags": []
   },
   "outputs": [],
   "source": [
    "import numpy as np\n",
    "import pandas as pd\n",
    "from sklearn.model_selection import train_test_split\n",
    "from sklearn.linear_model import LogisticRegression\n",
    "from sklearn.metrics import accuracy_score\n"
   ]
  },
  {
   "cell_type": "code",
   "execution_count": 3,
   "id": "82c72b67",
   "metadata": {
    "execution": {
     "iopub.execute_input": "2024-06-22T17:16:27.327554Z",
     "iopub.status.busy": "2024-06-22T17:16:27.327126Z",
     "iopub.status.idle": "2024-06-22T17:16:31.500441Z",
     "shell.execute_reply": "2024-06-22T17:16:31.499072Z"
    },
    "papermill": {
     "duration": 4.188673,
     "end_time": "2024-06-22T17:16:31.503370",
     "exception": false,
     "start_time": "2024-06-22T17:16:27.314697",
     "status": "completed"
    },
    "tags": []
   },
   "outputs": [],
   "source": [
    "#loading dataset to pandas dataframe\n",
    "credit_card_data = pd.read_csv(\"/kaggle/input/creditcardfraud/creditcard.csv\")"
   ]
  },
  {
   "cell_type": "code",
   "execution_count": 4,
   "id": "bea7bbff",
   "metadata": {
    "execution": {
     "iopub.execute_input": "2024-06-22T17:16:31.528914Z",
     "iopub.status.busy": "2024-06-22T17:16:31.528497Z",
     "iopub.status.idle": "2024-06-22T17:16:31.581659Z",
     "shell.execute_reply": "2024-06-22T17:16:31.580280Z"
    },
    "papermill": {
     "duration": 0.069098,
     "end_time": "2024-06-22T17:16:31.584263",
     "exception": false,
     "start_time": "2024-06-22T17:16:31.515165",
     "status": "completed"
    },
    "tags": []
   },
   "outputs": [
    {
     "data": {
      "text/html": [
       "<div>\n",
       "<style scoped>\n",
       "    .dataframe tbody tr th:only-of-type {\n",
       "        vertical-align: middle;\n",
       "    }\n",
       "\n",
       "    .dataframe tbody tr th {\n",
       "        vertical-align: top;\n",
       "    }\n",
       "\n",
       "    .dataframe thead th {\n",
       "        text-align: right;\n",
       "    }\n",
       "</style>\n",
       "<table border=\"1\" class=\"dataframe\">\n",
       "  <thead>\n",
       "    <tr style=\"text-align: right;\">\n",
       "      <th></th>\n",
       "      <th>Time</th>\n",
       "      <th>V1</th>\n",
       "      <th>V2</th>\n",
       "      <th>V3</th>\n",
       "      <th>V4</th>\n",
       "      <th>V5</th>\n",
       "      <th>V6</th>\n",
       "      <th>V7</th>\n",
       "      <th>V8</th>\n",
       "      <th>V9</th>\n",
       "      <th>...</th>\n",
       "      <th>V21</th>\n",
       "      <th>V22</th>\n",
       "      <th>V23</th>\n",
       "      <th>V24</th>\n",
       "      <th>V25</th>\n",
       "      <th>V26</th>\n",
       "      <th>V27</th>\n",
       "      <th>V28</th>\n",
       "      <th>Amount</th>\n",
       "      <th>Class</th>\n",
       "    </tr>\n",
       "  </thead>\n",
       "  <tbody>\n",
       "    <tr>\n",
       "      <th>0</th>\n",
       "      <td>0.0</td>\n",
       "      <td>-1.359807</td>\n",
       "      <td>-0.072781</td>\n",
       "      <td>2.536347</td>\n",
       "      <td>1.378155</td>\n",
       "      <td>-0.338321</td>\n",
       "      <td>0.462388</td>\n",
       "      <td>0.239599</td>\n",
       "      <td>0.098698</td>\n",
       "      <td>0.363787</td>\n",
       "      <td>...</td>\n",
       "      <td>-0.018307</td>\n",
       "      <td>0.277838</td>\n",
       "      <td>-0.110474</td>\n",
       "      <td>0.066928</td>\n",
       "      <td>0.128539</td>\n",
       "      <td>-0.189115</td>\n",
       "      <td>0.133558</td>\n",
       "      <td>-0.021053</td>\n",
       "      <td>149.62</td>\n",
       "      <td>0</td>\n",
       "    </tr>\n",
       "    <tr>\n",
       "      <th>1</th>\n",
       "      <td>0.0</td>\n",
       "      <td>1.191857</td>\n",
       "      <td>0.266151</td>\n",
       "      <td>0.166480</td>\n",
       "      <td>0.448154</td>\n",
       "      <td>0.060018</td>\n",
       "      <td>-0.082361</td>\n",
       "      <td>-0.078803</td>\n",
       "      <td>0.085102</td>\n",
       "      <td>-0.255425</td>\n",
       "      <td>...</td>\n",
       "      <td>-0.225775</td>\n",
       "      <td>-0.638672</td>\n",
       "      <td>0.101288</td>\n",
       "      <td>-0.339846</td>\n",
       "      <td>0.167170</td>\n",
       "      <td>0.125895</td>\n",
       "      <td>-0.008983</td>\n",
       "      <td>0.014724</td>\n",
       "      <td>2.69</td>\n",
       "      <td>0</td>\n",
       "    </tr>\n",
       "    <tr>\n",
       "      <th>2</th>\n",
       "      <td>1.0</td>\n",
       "      <td>-1.358354</td>\n",
       "      <td>-1.340163</td>\n",
       "      <td>1.773209</td>\n",
       "      <td>0.379780</td>\n",
       "      <td>-0.503198</td>\n",
       "      <td>1.800499</td>\n",
       "      <td>0.791461</td>\n",
       "      <td>0.247676</td>\n",
       "      <td>-1.514654</td>\n",
       "      <td>...</td>\n",
       "      <td>0.247998</td>\n",
       "      <td>0.771679</td>\n",
       "      <td>0.909412</td>\n",
       "      <td>-0.689281</td>\n",
       "      <td>-0.327642</td>\n",
       "      <td>-0.139097</td>\n",
       "      <td>-0.055353</td>\n",
       "      <td>-0.059752</td>\n",
       "      <td>378.66</td>\n",
       "      <td>0</td>\n",
       "    </tr>\n",
       "    <tr>\n",
       "      <th>3</th>\n",
       "      <td>1.0</td>\n",
       "      <td>-0.966272</td>\n",
       "      <td>-0.185226</td>\n",
       "      <td>1.792993</td>\n",
       "      <td>-0.863291</td>\n",
       "      <td>-0.010309</td>\n",
       "      <td>1.247203</td>\n",
       "      <td>0.237609</td>\n",
       "      <td>0.377436</td>\n",
       "      <td>-1.387024</td>\n",
       "      <td>...</td>\n",
       "      <td>-0.108300</td>\n",
       "      <td>0.005274</td>\n",
       "      <td>-0.190321</td>\n",
       "      <td>-1.175575</td>\n",
       "      <td>0.647376</td>\n",
       "      <td>-0.221929</td>\n",
       "      <td>0.062723</td>\n",
       "      <td>0.061458</td>\n",
       "      <td>123.50</td>\n",
       "      <td>0</td>\n",
       "    </tr>\n",
       "    <tr>\n",
       "      <th>4</th>\n",
       "      <td>2.0</td>\n",
       "      <td>-1.158233</td>\n",
       "      <td>0.877737</td>\n",
       "      <td>1.548718</td>\n",
       "      <td>0.403034</td>\n",
       "      <td>-0.407193</td>\n",
       "      <td>0.095921</td>\n",
       "      <td>0.592941</td>\n",
       "      <td>-0.270533</td>\n",
       "      <td>0.817739</td>\n",
       "      <td>...</td>\n",
       "      <td>-0.009431</td>\n",
       "      <td>0.798278</td>\n",
       "      <td>-0.137458</td>\n",
       "      <td>0.141267</td>\n",
       "      <td>-0.206010</td>\n",
       "      <td>0.502292</td>\n",
       "      <td>0.219422</td>\n",
       "      <td>0.215153</td>\n",
       "      <td>69.99</td>\n",
       "      <td>0</td>\n",
       "    </tr>\n",
       "  </tbody>\n",
       "</table>\n",
       "<p>5 rows × 31 columns</p>\n",
       "</div>"
      ],
      "text/plain": [
       "   Time        V1        V2        V3        V4        V5        V6        V7  \\\n",
       "0   0.0 -1.359807 -0.072781  2.536347  1.378155 -0.338321  0.462388  0.239599   \n",
       "1   0.0  1.191857  0.266151  0.166480  0.448154  0.060018 -0.082361 -0.078803   \n",
       "2   1.0 -1.358354 -1.340163  1.773209  0.379780 -0.503198  1.800499  0.791461   \n",
       "3   1.0 -0.966272 -0.185226  1.792993 -0.863291 -0.010309  1.247203  0.237609   \n",
       "4   2.0 -1.158233  0.877737  1.548718  0.403034 -0.407193  0.095921  0.592941   \n",
       "\n",
       "         V8        V9  ...       V21       V22       V23       V24       V25  \\\n",
       "0  0.098698  0.363787  ... -0.018307  0.277838 -0.110474  0.066928  0.128539   \n",
       "1  0.085102 -0.255425  ... -0.225775 -0.638672  0.101288 -0.339846  0.167170   \n",
       "2  0.247676 -1.514654  ...  0.247998  0.771679  0.909412 -0.689281 -0.327642   \n",
       "3  0.377436 -1.387024  ... -0.108300  0.005274 -0.190321 -1.175575  0.647376   \n",
       "4 -0.270533  0.817739  ... -0.009431  0.798278 -0.137458  0.141267 -0.206010   \n",
       "\n",
       "        V26       V27       V28  Amount  Class  \n",
       "0 -0.189115  0.133558 -0.021053  149.62      0  \n",
       "1  0.125895 -0.008983  0.014724    2.69      0  \n",
       "2 -0.139097 -0.055353 -0.059752  378.66      0  \n",
       "3 -0.221929  0.062723  0.061458  123.50      0  \n",
       "4  0.502292  0.219422  0.215153   69.99      0  \n",
       "\n",
       "[5 rows x 31 columns]"
      ]
     },
     "execution_count": 4,
     "metadata": {},
     "output_type": "execute_result"
    }
   ],
   "source": [
    "# first 5 rows \n",
    "credit_card_data.head()"
   ]
  },
  {
   "cell_type": "code",
   "execution_count": 5,
   "id": "b109097e",
   "metadata": {
    "execution": {
     "iopub.execute_input": "2024-06-22T17:16:31.609354Z",
     "iopub.status.busy": "2024-06-22T17:16:31.608957Z",
     "iopub.status.idle": "2024-06-22T17:16:31.636286Z",
     "shell.execute_reply": "2024-06-22T17:16:31.635237Z"
    },
    "papermill": {
     "duration": 0.042505,
     "end_time": "2024-06-22T17:16:31.638847",
     "exception": false,
     "start_time": "2024-06-22T17:16:31.596342",
     "status": "completed"
    },
    "tags": []
   },
   "outputs": [
    {
     "data": {
      "text/html": [
       "<div>\n",
       "<style scoped>\n",
       "    .dataframe tbody tr th:only-of-type {\n",
       "        vertical-align: middle;\n",
       "    }\n",
       "\n",
       "    .dataframe tbody tr th {\n",
       "        vertical-align: top;\n",
       "    }\n",
       "\n",
       "    .dataframe thead th {\n",
       "        text-align: right;\n",
       "    }\n",
       "</style>\n",
       "<table border=\"1\" class=\"dataframe\">\n",
       "  <thead>\n",
       "    <tr style=\"text-align: right;\">\n",
       "      <th></th>\n",
       "      <th>Time</th>\n",
       "      <th>V1</th>\n",
       "      <th>V2</th>\n",
       "      <th>V3</th>\n",
       "      <th>V4</th>\n",
       "      <th>V5</th>\n",
       "      <th>V6</th>\n",
       "      <th>V7</th>\n",
       "      <th>V8</th>\n",
       "      <th>V9</th>\n",
       "      <th>...</th>\n",
       "      <th>V21</th>\n",
       "      <th>V22</th>\n",
       "      <th>V23</th>\n",
       "      <th>V24</th>\n",
       "      <th>V25</th>\n",
       "      <th>V26</th>\n",
       "      <th>V27</th>\n",
       "      <th>V28</th>\n",
       "      <th>Amount</th>\n",
       "      <th>Class</th>\n",
       "    </tr>\n",
       "  </thead>\n",
       "  <tbody>\n",
       "    <tr>\n",
       "      <th>284802</th>\n",
       "      <td>172786.0</td>\n",
       "      <td>-11.881118</td>\n",
       "      <td>10.071785</td>\n",
       "      <td>-9.834783</td>\n",
       "      <td>-2.066656</td>\n",
       "      <td>-5.364473</td>\n",
       "      <td>-2.606837</td>\n",
       "      <td>-4.918215</td>\n",
       "      <td>7.305334</td>\n",
       "      <td>1.914428</td>\n",
       "      <td>...</td>\n",
       "      <td>0.213454</td>\n",
       "      <td>0.111864</td>\n",
       "      <td>1.014480</td>\n",
       "      <td>-0.509348</td>\n",
       "      <td>1.436807</td>\n",
       "      <td>0.250034</td>\n",
       "      <td>0.943651</td>\n",
       "      <td>0.823731</td>\n",
       "      <td>0.77</td>\n",
       "      <td>0</td>\n",
       "    </tr>\n",
       "    <tr>\n",
       "      <th>284803</th>\n",
       "      <td>172787.0</td>\n",
       "      <td>-0.732789</td>\n",
       "      <td>-0.055080</td>\n",
       "      <td>2.035030</td>\n",
       "      <td>-0.738589</td>\n",
       "      <td>0.868229</td>\n",
       "      <td>1.058415</td>\n",
       "      <td>0.024330</td>\n",
       "      <td>0.294869</td>\n",
       "      <td>0.584800</td>\n",
       "      <td>...</td>\n",
       "      <td>0.214205</td>\n",
       "      <td>0.924384</td>\n",
       "      <td>0.012463</td>\n",
       "      <td>-1.016226</td>\n",
       "      <td>-0.606624</td>\n",
       "      <td>-0.395255</td>\n",
       "      <td>0.068472</td>\n",
       "      <td>-0.053527</td>\n",
       "      <td>24.79</td>\n",
       "      <td>0</td>\n",
       "    </tr>\n",
       "    <tr>\n",
       "      <th>284804</th>\n",
       "      <td>172788.0</td>\n",
       "      <td>1.919565</td>\n",
       "      <td>-0.301254</td>\n",
       "      <td>-3.249640</td>\n",
       "      <td>-0.557828</td>\n",
       "      <td>2.630515</td>\n",
       "      <td>3.031260</td>\n",
       "      <td>-0.296827</td>\n",
       "      <td>0.708417</td>\n",
       "      <td>0.432454</td>\n",
       "      <td>...</td>\n",
       "      <td>0.232045</td>\n",
       "      <td>0.578229</td>\n",
       "      <td>-0.037501</td>\n",
       "      <td>0.640134</td>\n",
       "      <td>0.265745</td>\n",
       "      <td>-0.087371</td>\n",
       "      <td>0.004455</td>\n",
       "      <td>-0.026561</td>\n",
       "      <td>67.88</td>\n",
       "      <td>0</td>\n",
       "    </tr>\n",
       "    <tr>\n",
       "      <th>284805</th>\n",
       "      <td>172788.0</td>\n",
       "      <td>-0.240440</td>\n",
       "      <td>0.530483</td>\n",
       "      <td>0.702510</td>\n",
       "      <td>0.689799</td>\n",
       "      <td>-0.377961</td>\n",
       "      <td>0.623708</td>\n",
       "      <td>-0.686180</td>\n",
       "      <td>0.679145</td>\n",
       "      <td>0.392087</td>\n",
       "      <td>...</td>\n",
       "      <td>0.265245</td>\n",
       "      <td>0.800049</td>\n",
       "      <td>-0.163298</td>\n",
       "      <td>0.123205</td>\n",
       "      <td>-0.569159</td>\n",
       "      <td>0.546668</td>\n",
       "      <td>0.108821</td>\n",
       "      <td>0.104533</td>\n",
       "      <td>10.00</td>\n",
       "      <td>0</td>\n",
       "    </tr>\n",
       "    <tr>\n",
       "      <th>284806</th>\n",
       "      <td>172792.0</td>\n",
       "      <td>-0.533413</td>\n",
       "      <td>-0.189733</td>\n",
       "      <td>0.703337</td>\n",
       "      <td>-0.506271</td>\n",
       "      <td>-0.012546</td>\n",
       "      <td>-0.649617</td>\n",
       "      <td>1.577006</td>\n",
       "      <td>-0.414650</td>\n",
       "      <td>0.486180</td>\n",
       "      <td>...</td>\n",
       "      <td>0.261057</td>\n",
       "      <td>0.643078</td>\n",
       "      <td>0.376777</td>\n",
       "      <td>0.008797</td>\n",
       "      <td>-0.473649</td>\n",
       "      <td>-0.818267</td>\n",
       "      <td>-0.002415</td>\n",
       "      <td>0.013649</td>\n",
       "      <td>217.00</td>\n",
       "      <td>0</td>\n",
       "    </tr>\n",
       "  </tbody>\n",
       "</table>\n",
       "<p>5 rows × 31 columns</p>\n",
       "</div>"
      ],
      "text/plain": [
       "            Time         V1         V2        V3        V4        V5  \\\n",
       "284802  172786.0 -11.881118  10.071785 -9.834783 -2.066656 -5.364473   \n",
       "284803  172787.0  -0.732789  -0.055080  2.035030 -0.738589  0.868229   \n",
       "284804  172788.0   1.919565  -0.301254 -3.249640 -0.557828  2.630515   \n",
       "284805  172788.0  -0.240440   0.530483  0.702510  0.689799 -0.377961   \n",
       "284806  172792.0  -0.533413  -0.189733  0.703337 -0.506271 -0.012546   \n",
       "\n",
       "              V6        V7        V8        V9  ...       V21       V22  \\\n",
       "284802 -2.606837 -4.918215  7.305334  1.914428  ...  0.213454  0.111864   \n",
       "284803  1.058415  0.024330  0.294869  0.584800  ...  0.214205  0.924384   \n",
       "284804  3.031260 -0.296827  0.708417  0.432454  ...  0.232045  0.578229   \n",
       "284805  0.623708 -0.686180  0.679145  0.392087  ...  0.265245  0.800049   \n",
       "284806 -0.649617  1.577006 -0.414650  0.486180  ...  0.261057  0.643078   \n",
       "\n",
       "             V23       V24       V25       V26       V27       V28  Amount  \\\n",
       "284802  1.014480 -0.509348  1.436807  0.250034  0.943651  0.823731    0.77   \n",
       "284803  0.012463 -1.016226 -0.606624 -0.395255  0.068472 -0.053527   24.79   \n",
       "284804 -0.037501  0.640134  0.265745 -0.087371  0.004455 -0.026561   67.88   \n",
       "284805 -0.163298  0.123205 -0.569159  0.546668  0.108821  0.104533   10.00   \n",
       "284806  0.376777  0.008797 -0.473649 -0.818267 -0.002415  0.013649  217.00   \n",
       "\n",
       "        Class  \n",
       "284802      0  \n",
       "284803      0  \n",
       "284804      0  \n",
       "284805      0  \n",
       "284806      0  \n",
       "\n",
       "[5 rows x 31 columns]"
      ]
     },
     "execution_count": 5,
     "metadata": {},
     "output_type": "execute_result"
    }
   ],
   "source": [
    "credit_card_data.tail()"
   ]
  },
  {
   "cell_type": "code",
   "execution_count": 6,
   "id": "f3b2593e",
   "metadata": {
    "execution": {
     "iopub.execute_input": "2024-06-22T17:16:31.673037Z",
     "iopub.status.busy": "2024-06-22T17:16:31.672387Z",
     "iopub.status.idle": "2024-06-22T17:16:31.719997Z",
     "shell.execute_reply": "2024-06-22T17:16:31.718672Z"
    },
    "papermill": {
     "duration": 0.068017,
     "end_time": "2024-06-22T17:16:31.723111",
     "exception": false,
     "start_time": "2024-06-22T17:16:31.655094",
     "status": "completed"
    },
    "tags": []
   },
   "outputs": [
    {
     "name": "stdout",
     "output_type": "stream",
     "text": [
      "<class 'pandas.core.frame.DataFrame'>\n",
      "RangeIndex: 284807 entries, 0 to 284806\n",
      "Data columns (total 31 columns):\n",
      " #   Column  Non-Null Count   Dtype  \n",
      "---  ------  --------------   -----  \n",
      " 0   Time    284807 non-null  float64\n",
      " 1   V1      284807 non-null  float64\n",
      " 2   V2      284807 non-null  float64\n",
      " 3   V3      284807 non-null  float64\n",
      " 4   V4      284807 non-null  float64\n",
      " 5   V5      284807 non-null  float64\n",
      " 6   V6      284807 non-null  float64\n",
      " 7   V7      284807 non-null  float64\n",
      " 8   V8      284807 non-null  float64\n",
      " 9   V9      284807 non-null  float64\n",
      " 10  V10     284807 non-null  float64\n",
      " 11  V11     284807 non-null  float64\n",
      " 12  V12     284807 non-null  float64\n",
      " 13  V13     284807 non-null  float64\n",
      " 14  V14     284807 non-null  float64\n",
      " 15  V15     284807 non-null  float64\n",
      " 16  V16     284807 non-null  float64\n",
      " 17  V17     284807 non-null  float64\n",
      " 18  V18     284807 non-null  float64\n",
      " 19  V19     284807 non-null  float64\n",
      " 20  V20     284807 non-null  float64\n",
      " 21  V21     284807 non-null  float64\n",
      " 22  V22     284807 non-null  float64\n",
      " 23  V23     284807 non-null  float64\n",
      " 24  V24     284807 non-null  float64\n",
      " 25  V25     284807 non-null  float64\n",
      " 26  V26     284807 non-null  float64\n",
      " 27  V27     284807 non-null  float64\n",
      " 28  V28     284807 non-null  float64\n",
      " 29  Amount  284807 non-null  float64\n",
      " 30  Class   284807 non-null  int64  \n",
      "dtypes: float64(30), int64(1)\n",
      "memory usage: 67.4 MB\n"
     ]
    }
   ],
   "source": [
    "credit_card_data.info()"
   ]
  },
  {
   "cell_type": "code",
   "execution_count": 7,
   "id": "2f982551",
   "metadata": {
    "execution": {
     "iopub.execute_input": "2024-06-22T17:16:31.749842Z",
     "iopub.status.busy": "2024-06-22T17:16:31.749142Z",
     "iopub.status.idle": "2024-06-22T17:16:31.770617Z",
     "shell.execute_reply": "2024-06-22T17:16:31.769554Z"
    },
    "papermill": {
     "duration": 0.037492,
     "end_time": "2024-06-22T17:16:31.773186",
     "exception": false,
     "start_time": "2024-06-22T17:16:31.735694",
     "status": "completed"
    },
    "tags": []
   },
   "outputs": [
    {
     "data": {
      "text/plain": [
       "Time      0\n",
       "V1        0\n",
       "V2        0\n",
       "V3        0\n",
       "V4        0\n",
       "V5        0\n",
       "V6        0\n",
       "V7        0\n",
       "V8        0\n",
       "V9        0\n",
       "V10       0\n",
       "V11       0\n",
       "V12       0\n",
       "V13       0\n",
       "V14       0\n",
       "V15       0\n",
       "V16       0\n",
       "V17       0\n",
       "V18       0\n",
       "V19       0\n",
       "V20       0\n",
       "V21       0\n",
       "V22       0\n",
       "V23       0\n",
       "V24       0\n",
       "V25       0\n",
       "V26       0\n",
       "V27       0\n",
       "V28       0\n",
       "Amount    0\n",
       "Class     0\n",
       "dtype: int64"
      ]
     },
     "execution_count": 7,
     "metadata": {},
     "output_type": "execute_result"
    }
   ],
   "source": [
    "#checking the number of missing values in each column\n",
    "credit_card_data.isnull().sum()"
   ]
  },
  {
   "cell_type": "code",
   "execution_count": 8,
   "id": "d2ecb1a4",
   "metadata": {
    "execution": {
     "iopub.execute_input": "2024-06-22T17:16:31.799316Z",
     "iopub.status.busy": "2024-06-22T17:16:31.798910Z",
     "iopub.status.idle": "2024-06-22T17:16:31.812045Z",
     "shell.execute_reply": "2024-06-22T17:16:31.810998Z"
    },
    "papermill": {
     "duration": 0.02901,
     "end_time": "2024-06-22T17:16:31.814549",
     "exception": false,
     "start_time": "2024-06-22T17:16:31.785539",
     "status": "completed"
    },
    "tags": []
   },
   "outputs": [
    {
     "data": {
      "text/plain": [
       "Class\n",
       "0    284315\n",
       "1       492\n",
       "Name: count, dtype: int64"
      ]
     },
     "execution_count": 8,
     "metadata": {},
     "output_type": "execute_result"
    }
   ],
   "source": [
    "#class =0 is legit transcation\n",
    "#class=1 is fraud\n",
    "credit_card_data['Class'].value_counts()"
   ]
  },
  {
   "cell_type": "code",
   "execution_count": 9,
   "id": "8631bfb6",
   "metadata": {
    "execution": {
     "iopub.execute_input": "2024-06-22T17:16:31.841103Z",
     "iopub.status.busy": "2024-06-22T17:16:31.840251Z",
     "iopub.status.idle": "2024-06-22T17:16:31.886180Z",
     "shell.execute_reply": "2024-06-22T17:16:31.885159Z"
    },
    "papermill": {
     "duration": 0.062158,
     "end_time": "2024-06-22T17:16:31.888904",
     "exception": false,
     "start_time": "2024-06-22T17:16:31.826746",
     "status": "completed"
    },
    "tags": []
   },
   "outputs": [],
   "source": [
    "#unblanced data because of 492 fraud transction ,seperating the data for anaylsis\n",
    "legit = credit_card_data[credit_card_data.Class ==0]\n",
    "fraud = credit_card_data[credit_card_data.Class ==1]"
   ]
  },
  {
   "cell_type": "code",
   "execution_count": 10,
   "id": "6fbd62d5",
   "metadata": {
    "execution": {
     "iopub.execute_input": "2024-06-22T17:16:31.915891Z",
     "iopub.status.busy": "2024-06-22T17:16:31.915110Z",
     "iopub.status.idle": "2024-06-22T17:16:31.920940Z",
     "shell.execute_reply": "2024-06-22T17:16:31.919832Z"
    },
    "papermill": {
     "duration": 0.022398,
     "end_time": "2024-06-22T17:16:31.923678",
     "exception": false,
     "start_time": "2024-06-22T17:16:31.901280",
     "status": "completed"
    },
    "tags": []
   },
   "outputs": [
    {
     "name": "stdout",
     "output_type": "stream",
     "text": [
      "(284315, 31)\n",
      "(492, 31)\n"
     ]
    }
   ],
   "source": [
    "print(legit.shape)\n",
    "print(fraud.shape)"
   ]
  },
  {
   "cell_type": "code",
   "execution_count": 11,
   "id": "fa793eb0",
   "metadata": {
    "execution": {
     "iopub.execute_input": "2024-06-22T17:16:31.950885Z",
     "iopub.status.busy": "2024-06-22T17:16:31.950143Z",
     "iopub.status.idle": "2024-06-22T17:16:31.976623Z",
     "shell.execute_reply": "2024-06-22T17:16:31.975469Z"
    },
    "papermill": {
     "duration": 0.042857,
     "end_time": "2024-06-22T17:16:31.979498",
     "exception": false,
     "start_time": "2024-06-22T17:16:31.936641",
     "status": "completed"
    },
    "tags": []
   },
   "outputs": [
    {
     "data": {
      "text/plain": [
       "count    284315.000000\n",
       "mean         88.291022\n",
       "std         250.105092\n",
       "min           0.000000\n",
       "25%           5.650000\n",
       "50%          22.000000\n",
       "75%          77.050000\n",
       "max       25691.160000\n",
       "Name: Amount, dtype: float64"
      ]
     },
     "execution_count": 11,
     "metadata": {},
     "output_type": "execute_result"
    }
   ],
   "source": [
    "legit.Amount.describe()"
   ]
  },
  {
   "cell_type": "markdown",
   "id": "dc4c718c",
   "metadata": {
    "papermill": {
     "duration": 0.016855,
     "end_time": "2024-06-22T17:16:32.012499",
     "exception": false,
     "start_time": "2024-06-22T17:16:31.995644",
     "status": "completed"
    },
    "tags": []
   },
   "source": [
    "#the amount is in dollars\n",
    "50 percentage of values are less than 22 "
   ]
  },
  {
   "cell_type": "code",
   "execution_count": 12,
   "id": "445f3851",
   "metadata": {
    "execution": {
     "iopub.execute_input": "2024-06-22T17:16:32.040249Z",
     "iopub.status.busy": "2024-06-22T17:16:32.039333Z",
     "iopub.status.idle": "2024-06-22T17:16:32.053278Z",
     "shell.execute_reply": "2024-06-22T17:16:32.051650Z"
    },
    "papermill": {
     "duration": 0.031621,
     "end_time": "2024-06-22T17:16:32.056870",
     "exception": false,
     "start_time": "2024-06-22T17:16:32.025249",
     "status": "completed"
    },
    "tags": []
   },
   "outputs": [
    {
     "data": {
      "text/plain": [
       "count     492.000000\n",
       "mean      122.211321\n",
       "std       256.683288\n",
       "min         0.000000\n",
       "25%         1.000000\n",
       "50%         9.250000\n",
       "75%       105.890000\n",
       "max      2125.870000\n",
       "Name: Amount, dtype: float64"
      ]
     },
     "execution_count": 12,
     "metadata": {},
     "output_type": "execute_result"
    }
   ],
   "source": [
    "fraud.Amount.describe()"
   ]
  },
  {
   "cell_type": "code",
   "execution_count": 13,
   "id": "29ec863b",
   "metadata": {
    "execution": {
     "iopub.execute_input": "2024-06-22T17:16:32.084500Z",
     "iopub.status.busy": "2024-06-22T17:16:32.084063Z",
     "iopub.status.idle": "2024-06-22T17:16:32.217448Z",
     "shell.execute_reply": "2024-06-22T17:16:32.215807Z"
    },
    "papermill": {
     "duration": 0.150474,
     "end_time": "2024-06-22T17:16:32.220320",
     "exception": false,
     "start_time": "2024-06-22T17:16:32.069846",
     "status": "completed"
    },
    "tags": []
   },
   "outputs": [
    {
     "name": "stdout",
     "output_type": "stream",
     "text": [
      "               Time        V1        V2        V3        V4        V5  \\\n",
      "Class                                                                   \n",
      "0      94838.202258  0.008258 -0.006271  0.012171 -0.007860  0.005453   \n",
      "1      80746.806911 -4.771948  3.623778 -7.033281  4.542029 -3.151225   \n",
      "\n",
      "             V6        V7        V8        V9  ...       V20       V21  \\\n",
      "Class                                          ...                       \n",
      "0      0.002419  0.009637 -0.000987  0.004467  ... -0.000644 -0.001235   \n",
      "1     -1.397737 -5.568731  0.570636 -2.581123  ...  0.372319  0.713588   \n",
      "\n",
      "            V22       V23       V24       V25       V26       V27       V28  \\\n",
      "Class                                                                         \n",
      "0     -0.000024  0.000070  0.000182 -0.000072 -0.000089 -0.000295 -0.000131   \n",
      "1      0.014049 -0.040308 -0.105130  0.041449  0.051648  0.170575  0.075667   \n",
      "\n",
      "           Amount  \n",
      "Class              \n",
      "0       88.291022  \n",
      "1      122.211321  \n",
      "\n",
      "[2 rows x 30 columns]\n"
     ]
    }
   ],
   "source": [
    "# compare the values for both transaction\n",
    "grouped_means=credit_card_data.groupby('Class').mean()\n",
    "print(grouped_means)"
   ]
  },
  {
   "cell_type": "code",
   "execution_count": 14,
   "id": "6dfdcdfd",
   "metadata": {
    "execution": {
     "iopub.execute_input": "2024-06-22T17:16:32.248031Z",
     "iopub.status.busy": "2024-06-22T17:16:32.247649Z",
     "iopub.status.idle": "2024-06-22T17:16:32.252773Z",
     "shell.execute_reply": "2024-06-22T17:16:32.251531Z"
    },
    "papermill": {
     "duration": 0.021699,
     "end_time": "2024-06-22T17:16:32.255147",
     "exception": false,
     "start_time": "2024-06-22T17:16:32.233448",
     "status": "completed"
    },
    "tags": []
   },
   "outputs": [],
   "source": [
    "# build a sample dataset containing similar distribution of normal transactions and fradulent transaction "
   ]
  },
  {
   "cell_type": "markdown",
   "id": "c58ec336",
   "metadata": {
    "papermill": {
     "duration": 0.012608,
     "end_time": "2024-06-22T17:16:32.280531",
     "exception": false,
     "start_time": "2024-06-22T17:16:32.267923",
     "status": "completed"
    },
    "tags": []
   },
   "source": []
  },
  {
   "cell_type": "code",
   "execution_count": 15,
   "id": "15370117",
   "metadata": {
    "execution": {
     "iopub.execute_input": "2024-06-22T17:16:32.308797Z",
     "iopub.status.busy": "2024-06-22T17:16:32.308018Z",
     "iopub.status.idle": "2024-06-22T17:16:32.323053Z",
     "shell.execute_reply": "2024-06-22T17:16:32.321693Z"
    },
    "papermill": {
     "duration": 0.031907,
     "end_time": "2024-06-22T17:16:32.325678",
     "exception": false,
     "start_time": "2024-06-22T17:16:32.293771",
     "status": "completed"
    },
    "tags": []
   },
   "outputs": [],
   "source": [
    "#random sampling \n",
    "legit_sample = legit.sample(n=492)"
   ]
  },
  {
   "cell_type": "code",
   "execution_count": 16,
   "id": "ca2fde64",
   "metadata": {
    "execution": {
     "iopub.execute_input": "2024-06-22T17:16:32.353111Z",
     "iopub.status.busy": "2024-06-22T17:16:32.352731Z",
     "iopub.status.idle": "2024-06-22T17:16:32.358807Z",
     "shell.execute_reply": "2024-06-22T17:16:32.357823Z"
    },
    "papermill": {
     "duration": 0.022663,
     "end_time": "2024-06-22T17:16:32.361167",
     "exception": false,
     "start_time": "2024-06-22T17:16:32.338504",
     "status": "completed"
    },
    "tags": []
   },
   "outputs": [],
   "source": [
    "#concatenating two dataframes\n",
    "new_dataset = pd.concat([legit_sample,fraud],axis=0)"
   ]
  },
  {
   "cell_type": "code",
   "execution_count": 17,
   "id": "5a22f7a3",
   "metadata": {
    "execution": {
     "iopub.execute_input": "2024-06-22T17:16:32.394291Z",
     "iopub.status.busy": "2024-06-22T17:16:32.393451Z",
     "iopub.status.idle": "2024-06-22T17:16:32.424366Z",
     "shell.execute_reply": "2024-06-22T17:16:32.423283Z"
    },
    "papermill": {
     "duration": 0.05003,
     "end_time": "2024-06-22T17:16:32.427231",
     "exception": false,
     "start_time": "2024-06-22T17:16:32.377201",
     "status": "completed"
    },
    "tags": []
   },
   "outputs": [
    {
     "data": {
      "text/html": [
       "<div>\n",
       "<style scoped>\n",
       "    .dataframe tbody tr th:only-of-type {\n",
       "        vertical-align: middle;\n",
       "    }\n",
       "\n",
       "    .dataframe tbody tr th {\n",
       "        vertical-align: top;\n",
       "    }\n",
       "\n",
       "    .dataframe thead th {\n",
       "        text-align: right;\n",
       "    }\n",
       "</style>\n",
       "<table border=\"1\" class=\"dataframe\">\n",
       "  <thead>\n",
       "    <tr style=\"text-align: right;\">\n",
       "      <th></th>\n",
       "      <th>Time</th>\n",
       "      <th>V1</th>\n",
       "      <th>V2</th>\n",
       "      <th>V3</th>\n",
       "      <th>V4</th>\n",
       "      <th>V5</th>\n",
       "      <th>V6</th>\n",
       "      <th>V7</th>\n",
       "      <th>V8</th>\n",
       "      <th>V9</th>\n",
       "      <th>...</th>\n",
       "      <th>V21</th>\n",
       "      <th>V22</th>\n",
       "      <th>V23</th>\n",
       "      <th>V24</th>\n",
       "      <th>V25</th>\n",
       "      <th>V26</th>\n",
       "      <th>V27</th>\n",
       "      <th>V28</th>\n",
       "      <th>Amount</th>\n",
       "      <th>Class</th>\n",
       "    </tr>\n",
       "  </thead>\n",
       "  <tbody>\n",
       "    <tr>\n",
       "      <th>232716</th>\n",
       "      <td>147277.0</td>\n",
       "      <td>1.965978</td>\n",
       "      <td>-1.948341</td>\n",
       "      <td>-0.857721</td>\n",
       "      <td>-1.541785</td>\n",
       "      <td>-1.490255</td>\n",
       "      <td>-0.155935</td>\n",
       "      <td>-1.240890</td>\n",
       "      <td>0.007654</td>\n",
       "      <td>-1.254334</td>\n",
       "      <td>...</td>\n",
       "      <td>-0.014231</td>\n",
       "      <td>0.071650</td>\n",
       "      <td>0.167432</td>\n",
       "      <td>0.737809</td>\n",
       "      <td>-0.367639</td>\n",
       "      <td>-0.245766</td>\n",
       "      <td>-0.012031</td>\n",
       "      <td>-0.023246</td>\n",
       "      <td>158.50</td>\n",
       "      <td>0</td>\n",
       "    </tr>\n",
       "    <tr>\n",
       "      <th>137309</th>\n",
       "      <td>82106.0</td>\n",
       "      <td>-6.105284</td>\n",
       "      <td>5.041056</td>\n",
       "      <td>-1.783360</td>\n",
       "      <td>-2.428778</td>\n",
       "      <td>-1.988313</td>\n",
       "      <td>-0.818265</td>\n",
       "      <td>-0.974310</td>\n",
       "      <td>1.791962</td>\n",
       "      <td>3.393229</td>\n",
       "      <td>...</td>\n",
       "      <td>-0.512528</td>\n",
       "      <td>-0.566359</td>\n",
       "      <td>0.425311</td>\n",
       "      <td>-0.046148</td>\n",
       "      <td>0.781403</td>\n",
       "      <td>0.837346</td>\n",
       "      <td>1.991608</td>\n",
       "      <td>1.157790</td>\n",
       "      <td>0.75</td>\n",
       "      <td>0</td>\n",
       "    </tr>\n",
       "    <tr>\n",
       "      <th>122573</th>\n",
       "      <td>76614.0</td>\n",
       "      <td>1.284501</td>\n",
       "      <td>-0.446348</td>\n",
       "      <td>-0.337794</td>\n",
       "      <td>-2.110233</td>\n",
       "      <td>-0.376689</td>\n",
       "      <td>-0.998602</td>\n",
       "      <td>0.149452</td>\n",
       "      <td>-0.340362</td>\n",
       "      <td>1.815853</td>\n",
       "      <td>...</td>\n",
       "      <td>-0.193520</td>\n",
       "      <td>-0.329918</td>\n",
       "      <td>-0.217286</td>\n",
       "      <td>-0.397759</td>\n",
       "      <td>0.842380</td>\n",
       "      <td>-0.853322</td>\n",
       "      <td>0.064417</td>\n",
       "      <td>0.025152</td>\n",
       "      <td>57.01</td>\n",
       "      <td>0</td>\n",
       "    </tr>\n",
       "    <tr>\n",
       "      <th>258958</th>\n",
       "      <td>158895.0</td>\n",
       "      <td>-2.887733</td>\n",
       "      <td>1.780640</td>\n",
       "      <td>0.835607</td>\n",
       "      <td>-1.466559</td>\n",
       "      <td>-0.263922</td>\n",
       "      <td>-0.608217</td>\n",
       "      <td>0.971644</td>\n",
       "      <td>-0.599808</td>\n",
       "      <td>3.249356</td>\n",
       "      <td>...</td>\n",
       "      <td>-0.386744</td>\n",
       "      <td>0.862818</td>\n",
       "      <td>-0.382880</td>\n",
       "      <td>0.066845</td>\n",
       "      <td>0.103690</td>\n",
       "      <td>-0.065788</td>\n",
       "      <td>-0.155939</td>\n",
       "      <td>-0.829850</td>\n",
       "      <td>20.00</td>\n",
       "      <td>0</td>\n",
       "    </tr>\n",
       "    <tr>\n",
       "      <th>25457</th>\n",
       "      <td>33619.0</td>\n",
       "      <td>0.206196</td>\n",
       "      <td>1.010417</td>\n",
       "      <td>1.025922</td>\n",
       "      <td>1.459023</td>\n",
       "      <td>0.166794</td>\n",
       "      <td>-0.138710</td>\n",
       "      <td>0.490689</td>\n",
       "      <td>-0.072905</td>\n",
       "      <td>-0.672758</td>\n",
       "      <td>...</td>\n",
       "      <td>0.187179</td>\n",
       "      <td>0.755923</td>\n",
       "      <td>0.146476</td>\n",
       "      <td>0.112219</td>\n",
       "      <td>-1.304874</td>\n",
       "      <td>-0.401316</td>\n",
       "      <td>0.333539</td>\n",
       "      <td>0.262028</td>\n",
       "      <td>4.99</td>\n",
       "      <td>0</td>\n",
       "    </tr>\n",
       "  </tbody>\n",
       "</table>\n",
       "<p>5 rows × 31 columns</p>\n",
       "</div>"
      ],
      "text/plain": [
       "            Time        V1        V2        V3        V4        V5        V6  \\\n",
       "232716  147277.0  1.965978 -1.948341 -0.857721 -1.541785 -1.490255 -0.155935   \n",
       "137309   82106.0 -6.105284  5.041056 -1.783360 -2.428778 -1.988313 -0.818265   \n",
       "122573   76614.0  1.284501 -0.446348 -0.337794 -2.110233 -0.376689 -0.998602   \n",
       "258958  158895.0 -2.887733  1.780640  0.835607 -1.466559 -0.263922 -0.608217   \n",
       "25457    33619.0  0.206196  1.010417  1.025922  1.459023  0.166794 -0.138710   \n",
       "\n",
       "              V7        V8        V9  ...       V21       V22       V23  \\\n",
       "232716 -1.240890  0.007654 -1.254334  ... -0.014231  0.071650  0.167432   \n",
       "137309 -0.974310  1.791962  3.393229  ... -0.512528 -0.566359  0.425311   \n",
       "122573  0.149452 -0.340362  1.815853  ... -0.193520 -0.329918 -0.217286   \n",
       "258958  0.971644 -0.599808  3.249356  ... -0.386744  0.862818 -0.382880   \n",
       "25457   0.490689 -0.072905 -0.672758  ...  0.187179  0.755923  0.146476   \n",
       "\n",
       "             V24       V25       V26       V27       V28  Amount  Class  \n",
       "232716  0.737809 -0.367639 -0.245766 -0.012031 -0.023246  158.50      0  \n",
       "137309 -0.046148  0.781403  0.837346  1.991608  1.157790    0.75      0  \n",
       "122573 -0.397759  0.842380 -0.853322  0.064417  0.025152   57.01      0  \n",
       "258958  0.066845  0.103690 -0.065788 -0.155939 -0.829850   20.00      0  \n",
       "25457   0.112219 -1.304874 -0.401316  0.333539  0.262028    4.99      0  \n",
       "\n",
       "[5 rows x 31 columns]"
      ]
     },
     "execution_count": 17,
     "metadata": {},
     "output_type": "execute_result"
    }
   ],
   "source": [
    "new_dataset.head()"
   ]
  },
  {
   "cell_type": "code",
   "execution_count": 18,
   "id": "3b248726",
   "metadata": {
    "execution": {
     "iopub.execute_input": "2024-06-22T17:16:32.460677Z",
     "iopub.status.busy": "2024-06-22T17:16:32.460264Z",
     "iopub.status.idle": "2024-06-22T17:16:32.488845Z",
     "shell.execute_reply": "2024-06-22T17:16:32.487632Z"
    },
    "papermill": {
     "duration": 0.045739,
     "end_time": "2024-06-22T17:16:32.491289",
     "exception": false,
     "start_time": "2024-06-22T17:16:32.445550",
     "status": "completed"
    },
    "tags": []
   },
   "outputs": [
    {
     "data": {
      "text/html": [
       "<div>\n",
       "<style scoped>\n",
       "    .dataframe tbody tr th:only-of-type {\n",
       "        vertical-align: middle;\n",
       "    }\n",
       "\n",
       "    .dataframe tbody tr th {\n",
       "        vertical-align: top;\n",
       "    }\n",
       "\n",
       "    .dataframe thead th {\n",
       "        text-align: right;\n",
       "    }\n",
       "</style>\n",
       "<table border=\"1\" class=\"dataframe\">\n",
       "  <thead>\n",
       "    <tr style=\"text-align: right;\">\n",
       "      <th></th>\n",
       "      <th>Time</th>\n",
       "      <th>V1</th>\n",
       "      <th>V2</th>\n",
       "      <th>V3</th>\n",
       "      <th>V4</th>\n",
       "      <th>V5</th>\n",
       "      <th>V6</th>\n",
       "      <th>V7</th>\n",
       "      <th>V8</th>\n",
       "      <th>V9</th>\n",
       "      <th>...</th>\n",
       "      <th>V21</th>\n",
       "      <th>V22</th>\n",
       "      <th>V23</th>\n",
       "      <th>V24</th>\n",
       "      <th>V25</th>\n",
       "      <th>V26</th>\n",
       "      <th>V27</th>\n",
       "      <th>V28</th>\n",
       "      <th>Amount</th>\n",
       "      <th>Class</th>\n",
       "    </tr>\n",
       "  </thead>\n",
       "  <tbody>\n",
       "    <tr>\n",
       "      <th>279863</th>\n",
       "      <td>169142.0</td>\n",
       "      <td>-1.927883</td>\n",
       "      <td>1.125653</td>\n",
       "      <td>-4.518331</td>\n",
       "      <td>1.749293</td>\n",
       "      <td>-1.566487</td>\n",
       "      <td>-2.010494</td>\n",
       "      <td>-0.882850</td>\n",
       "      <td>0.697211</td>\n",
       "      <td>-2.064945</td>\n",
       "      <td>...</td>\n",
       "      <td>0.778584</td>\n",
       "      <td>-0.319189</td>\n",
       "      <td>0.639419</td>\n",
       "      <td>-0.294885</td>\n",
       "      <td>0.537503</td>\n",
       "      <td>0.788395</td>\n",
       "      <td>0.292680</td>\n",
       "      <td>0.147968</td>\n",
       "      <td>390.00</td>\n",
       "      <td>1</td>\n",
       "    </tr>\n",
       "    <tr>\n",
       "      <th>280143</th>\n",
       "      <td>169347.0</td>\n",
       "      <td>1.378559</td>\n",
       "      <td>1.289381</td>\n",
       "      <td>-5.004247</td>\n",
       "      <td>1.411850</td>\n",
       "      <td>0.442581</td>\n",
       "      <td>-1.326536</td>\n",
       "      <td>-1.413170</td>\n",
       "      <td>0.248525</td>\n",
       "      <td>-1.127396</td>\n",
       "      <td>...</td>\n",
       "      <td>0.370612</td>\n",
       "      <td>0.028234</td>\n",
       "      <td>-0.145640</td>\n",
       "      <td>-0.081049</td>\n",
       "      <td>0.521875</td>\n",
       "      <td>0.739467</td>\n",
       "      <td>0.389152</td>\n",
       "      <td>0.186637</td>\n",
       "      <td>0.76</td>\n",
       "      <td>1</td>\n",
       "    </tr>\n",
       "    <tr>\n",
       "      <th>280149</th>\n",
       "      <td>169351.0</td>\n",
       "      <td>-0.676143</td>\n",
       "      <td>1.126366</td>\n",
       "      <td>-2.213700</td>\n",
       "      <td>0.468308</td>\n",
       "      <td>-1.120541</td>\n",
       "      <td>-0.003346</td>\n",
       "      <td>-2.234739</td>\n",
       "      <td>1.210158</td>\n",
       "      <td>-0.652250</td>\n",
       "      <td>...</td>\n",
       "      <td>0.751826</td>\n",
       "      <td>0.834108</td>\n",
       "      <td>0.190944</td>\n",
       "      <td>0.032070</td>\n",
       "      <td>-0.739695</td>\n",
       "      <td>0.471111</td>\n",
       "      <td>0.385107</td>\n",
       "      <td>0.194361</td>\n",
       "      <td>77.89</td>\n",
       "      <td>1</td>\n",
       "    </tr>\n",
       "    <tr>\n",
       "      <th>281144</th>\n",
       "      <td>169966.0</td>\n",
       "      <td>-3.113832</td>\n",
       "      <td>0.585864</td>\n",
       "      <td>-5.399730</td>\n",
       "      <td>1.817092</td>\n",
       "      <td>-0.840618</td>\n",
       "      <td>-2.943548</td>\n",
       "      <td>-2.208002</td>\n",
       "      <td>1.058733</td>\n",
       "      <td>-1.632333</td>\n",
       "      <td>...</td>\n",
       "      <td>0.583276</td>\n",
       "      <td>-0.269209</td>\n",
       "      <td>-0.456108</td>\n",
       "      <td>-0.183659</td>\n",
       "      <td>-0.328168</td>\n",
       "      <td>0.606116</td>\n",
       "      <td>0.884876</td>\n",
       "      <td>-0.253700</td>\n",
       "      <td>245.00</td>\n",
       "      <td>1</td>\n",
       "    </tr>\n",
       "    <tr>\n",
       "      <th>281674</th>\n",
       "      <td>170348.0</td>\n",
       "      <td>1.991976</td>\n",
       "      <td>0.158476</td>\n",
       "      <td>-2.583441</td>\n",
       "      <td>0.408670</td>\n",
       "      <td>1.151147</td>\n",
       "      <td>-0.096695</td>\n",
       "      <td>0.223050</td>\n",
       "      <td>-0.068384</td>\n",
       "      <td>0.577829</td>\n",
       "      <td>...</td>\n",
       "      <td>-0.164350</td>\n",
       "      <td>-0.295135</td>\n",
       "      <td>-0.072173</td>\n",
       "      <td>-0.450261</td>\n",
       "      <td>0.313267</td>\n",
       "      <td>-0.289617</td>\n",
       "      <td>0.002988</td>\n",
       "      <td>-0.015309</td>\n",
       "      <td>42.53</td>\n",
       "      <td>1</td>\n",
       "    </tr>\n",
       "  </tbody>\n",
       "</table>\n",
       "<p>5 rows × 31 columns</p>\n",
       "</div>"
      ],
      "text/plain": [
       "            Time        V1        V2        V3        V4        V5        V6  \\\n",
       "279863  169142.0 -1.927883  1.125653 -4.518331  1.749293 -1.566487 -2.010494   \n",
       "280143  169347.0  1.378559  1.289381 -5.004247  1.411850  0.442581 -1.326536   \n",
       "280149  169351.0 -0.676143  1.126366 -2.213700  0.468308 -1.120541 -0.003346   \n",
       "281144  169966.0 -3.113832  0.585864 -5.399730  1.817092 -0.840618 -2.943548   \n",
       "281674  170348.0  1.991976  0.158476 -2.583441  0.408670  1.151147 -0.096695   \n",
       "\n",
       "              V7        V8        V9  ...       V21       V22       V23  \\\n",
       "279863 -0.882850  0.697211 -2.064945  ...  0.778584 -0.319189  0.639419   \n",
       "280143 -1.413170  0.248525 -1.127396  ...  0.370612  0.028234 -0.145640   \n",
       "280149 -2.234739  1.210158 -0.652250  ...  0.751826  0.834108  0.190944   \n",
       "281144 -2.208002  1.058733 -1.632333  ...  0.583276 -0.269209 -0.456108   \n",
       "281674  0.223050 -0.068384  0.577829  ... -0.164350 -0.295135 -0.072173   \n",
       "\n",
       "             V24       V25       V26       V27       V28  Amount  Class  \n",
       "279863 -0.294885  0.537503  0.788395  0.292680  0.147968  390.00      1  \n",
       "280143 -0.081049  0.521875  0.739467  0.389152  0.186637    0.76      1  \n",
       "280149  0.032070 -0.739695  0.471111  0.385107  0.194361   77.89      1  \n",
       "281144 -0.183659 -0.328168  0.606116  0.884876 -0.253700  245.00      1  \n",
       "281674 -0.450261  0.313267 -0.289617  0.002988 -0.015309   42.53      1  \n",
       "\n",
       "[5 rows x 31 columns]"
      ]
     },
     "execution_count": 18,
     "metadata": {},
     "output_type": "execute_result"
    }
   ],
   "source": [
    "new_dataset.tail()"
   ]
  },
  {
   "cell_type": "code",
   "execution_count": 19,
   "id": "34d88faf",
   "metadata": {
    "execution": {
     "iopub.execute_input": "2024-06-22T17:16:32.520305Z",
     "iopub.status.busy": "2024-06-22T17:16:32.519921Z",
     "iopub.status.idle": "2024-06-22T17:16:32.528360Z",
     "shell.execute_reply": "2024-06-22T17:16:32.527305Z"
    },
    "papermill": {
     "duration": 0.025949,
     "end_time": "2024-06-22T17:16:32.530903",
     "exception": false,
     "start_time": "2024-06-22T17:16:32.504954",
     "status": "completed"
    },
    "tags": []
   },
   "outputs": [
    {
     "data": {
      "text/plain": [
       "Class\n",
       "0    492\n",
       "1    492\n",
       "Name: count, dtype: int64"
      ]
     },
     "execution_count": 19,
     "metadata": {},
     "output_type": "execute_result"
    }
   ],
   "source": [
    "new_dataset['Class'].value_counts()"
   ]
  },
  {
   "cell_type": "markdown",
   "id": "dce273b7",
   "metadata": {
    "papermill": {
     "duration": 0.013721,
     "end_time": "2024-06-22T17:16:32.558366",
     "exception": false,
     "start_time": "2024-06-22T17:16:32.544645",
     "status": "completed"
    },
    "tags": []
   },
   "source": [
    "#uniformly distributed data now"
   ]
  },
  {
   "cell_type": "code",
   "execution_count": 20,
   "id": "8732a26d",
   "metadata": {
    "execution": {
     "iopub.execute_input": "2024-06-22T17:16:32.589047Z",
     "iopub.status.busy": "2024-06-22T17:16:32.588675Z",
     "iopub.status.idle": "2024-06-22T17:16:32.614960Z",
     "shell.execute_reply": "2024-06-22T17:16:32.613897Z"
    },
    "papermill": {
     "duration": 0.044168,
     "end_time": "2024-06-22T17:16:32.617589",
     "exception": false,
     "start_time": "2024-06-22T17:16:32.573421",
     "status": "completed"
    },
    "tags": []
   },
   "outputs": [
    {
     "data": {
      "text/html": [
       "<div>\n",
       "<style scoped>\n",
       "    .dataframe tbody tr th:only-of-type {\n",
       "        vertical-align: middle;\n",
       "    }\n",
       "\n",
       "    .dataframe tbody tr th {\n",
       "        vertical-align: top;\n",
       "    }\n",
       "\n",
       "    .dataframe thead th {\n",
       "        text-align: right;\n",
       "    }\n",
       "</style>\n",
       "<table border=\"1\" class=\"dataframe\">\n",
       "  <thead>\n",
       "    <tr style=\"text-align: right;\">\n",
       "      <th></th>\n",
       "      <th>Time</th>\n",
       "      <th>V1</th>\n",
       "      <th>V2</th>\n",
       "      <th>V3</th>\n",
       "      <th>V4</th>\n",
       "      <th>V5</th>\n",
       "      <th>V6</th>\n",
       "      <th>V7</th>\n",
       "      <th>V8</th>\n",
       "      <th>V9</th>\n",
       "      <th>...</th>\n",
       "      <th>V20</th>\n",
       "      <th>V21</th>\n",
       "      <th>V22</th>\n",
       "      <th>V23</th>\n",
       "      <th>V24</th>\n",
       "      <th>V25</th>\n",
       "      <th>V26</th>\n",
       "      <th>V27</th>\n",
       "      <th>V28</th>\n",
       "      <th>Amount</th>\n",
       "    </tr>\n",
       "    <tr>\n",
       "      <th>Class</th>\n",
       "      <th></th>\n",
       "      <th></th>\n",
       "      <th></th>\n",
       "      <th></th>\n",
       "      <th></th>\n",
       "      <th></th>\n",
       "      <th></th>\n",
       "      <th></th>\n",
       "      <th></th>\n",
       "      <th></th>\n",
       "      <th></th>\n",
       "      <th></th>\n",
       "      <th></th>\n",
       "      <th></th>\n",
       "      <th></th>\n",
       "      <th></th>\n",
       "      <th></th>\n",
       "      <th></th>\n",
       "      <th></th>\n",
       "      <th></th>\n",
       "      <th></th>\n",
       "    </tr>\n",
       "  </thead>\n",
       "  <tbody>\n",
       "    <tr>\n",
       "      <th>0</th>\n",
       "      <td>95537.355691</td>\n",
       "      <td>0.037849</td>\n",
       "      <td>-0.256152</td>\n",
       "      <td>-0.050564</td>\n",
       "      <td>-0.070338</td>\n",
       "      <td>0.027819</td>\n",
       "      <td>-0.052688</td>\n",
       "      <td>-0.006963</td>\n",
       "      <td>0.035396</td>\n",
       "      <td>0.040664</td>\n",
       "      <td>...</td>\n",
       "      <td>-0.053870</td>\n",
       "      <td>-0.059001</td>\n",
       "      <td>-0.053998</td>\n",
       "      <td>-0.019316</td>\n",
       "      <td>-0.017632</td>\n",
       "      <td>0.006380</td>\n",
       "      <td>-0.031789</td>\n",
       "      <td>0.030682</td>\n",
       "      <td>0.043910</td>\n",
       "      <td>98.836585</td>\n",
       "    </tr>\n",
       "    <tr>\n",
       "      <th>1</th>\n",
       "      <td>80746.806911</td>\n",
       "      <td>-4.771948</td>\n",
       "      <td>3.623778</td>\n",
       "      <td>-7.033281</td>\n",
       "      <td>4.542029</td>\n",
       "      <td>-3.151225</td>\n",
       "      <td>-1.397737</td>\n",
       "      <td>-5.568731</td>\n",
       "      <td>0.570636</td>\n",
       "      <td>-2.581123</td>\n",
       "      <td>...</td>\n",
       "      <td>0.372319</td>\n",
       "      <td>0.713588</td>\n",
       "      <td>0.014049</td>\n",
       "      <td>-0.040308</td>\n",
       "      <td>-0.105130</td>\n",
       "      <td>0.041449</td>\n",
       "      <td>0.051648</td>\n",
       "      <td>0.170575</td>\n",
       "      <td>0.075667</td>\n",
       "      <td>122.211321</td>\n",
       "    </tr>\n",
       "  </tbody>\n",
       "</table>\n",
       "<p>2 rows × 30 columns</p>\n",
       "</div>"
      ],
      "text/plain": [
       "               Time        V1        V2        V3        V4        V5  \\\n",
       "Class                                                                   \n",
       "0      95537.355691  0.037849 -0.256152 -0.050564 -0.070338  0.027819   \n",
       "1      80746.806911 -4.771948  3.623778 -7.033281  4.542029 -3.151225   \n",
       "\n",
       "             V6        V7        V8        V9  ...       V20       V21  \\\n",
       "Class                                          ...                       \n",
       "0     -0.052688 -0.006963  0.035396  0.040664  ... -0.053870 -0.059001   \n",
       "1     -1.397737 -5.568731  0.570636 -2.581123  ...  0.372319  0.713588   \n",
       "\n",
       "            V22       V23       V24       V25       V26       V27       V28  \\\n",
       "Class                                                                         \n",
       "0     -0.053998 -0.019316 -0.017632  0.006380 -0.031789  0.030682  0.043910   \n",
       "1      0.014049 -0.040308 -0.105130  0.041449  0.051648  0.170575  0.075667   \n",
       "\n",
       "           Amount  \n",
       "Class              \n",
       "0       98.836585  \n",
       "1      122.211321  \n",
       "\n",
       "[2 rows x 30 columns]"
      ]
     },
     "execution_count": 20,
     "metadata": {},
     "output_type": "execute_result"
    }
   ],
   "source": [
    "new_dataset.groupby('Class').mean()"
   ]
  },
  {
   "cell_type": "code",
   "execution_count": 21,
   "id": "950acfee",
   "metadata": {
    "execution": {
     "iopub.execute_input": "2024-06-22T17:16:32.648024Z",
     "iopub.status.busy": "2024-06-22T17:16:32.647630Z",
     "iopub.status.idle": "2024-06-22T17:16:32.653750Z",
     "shell.execute_reply": "2024-06-22T17:16:32.652649Z"
    },
    "papermill": {
     "duration": 0.02413,
     "end_time": "2024-06-22T17:16:32.656246",
     "exception": false,
     "start_time": "2024-06-22T17:16:32.632116",
     "status": "completed"
    },
    "tags": []
   },
   "outputs": [],
   "source": [
    "X = new_dataset.drop(columns='Class',axis=0)\n",
    "Y = new_dataset['Class']"
   ]
  },
  {
   "cell_type": "code",
   "execution_count": 22,
   "id": "5478d999",
   "metadata": {
    "execution": {
     "iopub.execute_input": "2024-06-22T17:16:32.686154Z",
     "iopub.status.busy": "2024-06-22T17:16:32.685787Z",
     "iopub.status.idle": "2024-06-22T17:16:32.704148Z",
     "shell.execute_reply": "2024-06-22T17:16:32.703095Z"
    },
    "papermill": {
     "duration": 0.036832,
     "end_time": "2024-06-22T17:16:32.707111",
     "exception": false,
     "start_time": "2024-06-22T17:16:32.670279",
     "status": "completed"
    },
    "tags": []
   },
   "outputs": [
    {
     "name": "stdout",
     "output_type": "stream",
     "text": [
      "            Time        V1        V2        V3        V4        V5        V6  \\\n",
      "232716  147277.0  1.965978 -1.948341 -0.857721 -1.541785 -1.490255 -0.155935   \n",
      "137309   82106.0 -6.105284  5.041056 -1.783360 -2.428778 -1.988313 -0.818265   \n",
      "122573   76614.0  1.284501 -0.446348 -0.337794 -2.110233 -0.376689 -0.998602   \n",
      "258958  158895.0 -2.887733  1.780640  0.835607 -1.466559 -0.263922 -0.608217   \n",
      "25457    33619.0  0.206196  1.010417  1.025922  1.459023  0.166794 -0.138710   \n",
      "...          ...       ...       ...       ...       ...       ...       ...   \n",
      "279863  169142.0 -1.927883  1.125653 -4.518331  1.749293 -1.566487 -2.010494   \n",
      "280143  169347.0  1.378559  1.289381 -5.004247  1.411850  0.442581 -1.326536   \n",
      "280149  169351.0 -0.676143  1.126366 -2.213700  0.468308 -1.120541 -0.003346   \n",
      "281144  169966.0 -3.113832  0.585864 -5.399730  1.817092 -0.840618 -2.943548   \n",
      "281674  170348.0  1.991976  0.158476 -2.583441  0.408670  1.151147 -0.096695   \n",
      "\n",
      "              V7        V8        V9  ...       V20       V21       V22  \\\n",
      "232716 -1.240890  0.007654 -1.254334  ... -0.136416 -0.014231  0.071650   \n",
      "137309 -0.974310  1.791962  3.393229  ...  2.381866 -0.512528 -0.566359   \n",
      "122573  0.149452 -0.340362  1.815853  ...  0.111029 -0.193520 -0.329918   \n",
      "258958  0.971644 -0.599808  3.249356  ...  1.245228 -0.386744  0.862818   \n",
      "25457   0.490689 -0.072905 -0.672758  ...  0.098920  0.187179  0.755923   \n",
      "...          ...       ...       ...  ...       ...       ...       ...   \n",
      "279863 -0.882850  0.697211 -2.064945  ...  1.252967  0.778584 -0.319189   \n",
      "280143 -1.413170  0.248525 -1.127396  ...  0.226138  0.370612  0.028234   \n",
      "280149 -2.234739  1.210158 -0.652250  ...  0.247968  0.751826  0.834108   \n",
      "281144 -2.208002  1.058733 -1.632333  ...  0.306271  0.583276 -0.269209   \n",
      "281674  0.223050 -0.068384  0.577829  ... -0.017652 -0.164350 -0.295135   \n",
      "\n",
      "             V23       V24       V25       V26       V27       V28  Amount  \n",
      "232716  0.167432  0.737809 -0.367639 -0.245766 -0.012031 -0.023246  158.50  \n",
      "137309  0.425311 -0.046148  0.781403  0.837346  1.991608  1.157790    0.75  \n",
      "122573 -0.217286 -0.397759  0.842380 -0.853322  0.064417  0.025152   57.01  \n",
      "258958 -0.382880  0.066845  0.103690 -0.065788 -0.155939 -0.829850   20.00  \n",
      "25457   0.146476  0.112219 -1.304874 -0.401316  0.333539  0.262028    4.99  \n",
      "...          ...       ...       ...       ...       ...       ...     ...  \n",
      "279863  0.639419 -0.294885  0.537503  0.788395  0.292680  0.147968  390.00  \n",
      "280143 -0.145640 -0.081049  0.521875  0.739467  0.389152  0.186637    0.76  \n",
      "280149  0.190944  0.032070 -0.739695  0.471111  0.385107  0.194361   77.89  \n",
      "281144 -0.456108 -0.183659 -0.328168  0.606116  0.884876 -0.253700  245.00  \n",
      "281674 -0.072173 -0.450261  0.313267 -0.289617  0.002988 -0.015309   42.53  \n",
      "\n",
      "[984 rows x 30 columns]\n"
     ]
    }
   ],
   "source": [
    "print(X)"
   ]
  },
  {
   "cell_type": "markdown",
   "id": "de646f36",
   "metadata": {
    "papermill": {
     "duration": 0.014315,
     "end_time": "2024-06-22T17:16:32.735733",
     "exception": false,
     "start_time": "2024-06-22T17:16:32.721418",
     "status": "completed"
    },
    "tags": []
   },
   "source": [
    "#so here one column is dropped\n"
   ]
  },
  {
   "cell_type": "code",
   "execution_count": 23,
   "id": "6edc4187",
   "metadata": {
    "execution": {
     "iopub.execute_input": "2024-06-22T17:16:32.766387Z",
     "iopub.status.busy": "2024-06-22T17:16:32.766009Z",
     "iopub.status.idle": "2024-06-22T17:16:32.772663Z",
     "shell.execute_reply": "2024-06-22T17:16:32.771542Z"
    },
    "papermill": {
     "duration": 0.024826,
     "end_time": "2024-06-22T17:16:32.775167",
     "exception": false,
     "start_time": "2024-06-22T17:16:32.750341",
     "status": "completed"
    },
    "tags": []
   },
   "outputs": [
    {
     "name": "stdout",
     "output_type": "stream",
     "text": [
      "232716    0\n",
      "137309    0\n",
      "122573    0\n",
      "258958    0\n",
      "25457     0\n",
      "         ..\n",
      "279863    1\n",
      "280143    1\n",
      "280149    1\n",
      "281144    1\n",
      "281674    1\n",
      "Name: Class, Length: 984, dtype: int64\n"
     ]
    }
   ],
   "source": [
    "print(Y)"
   ]
  },
  {
   "cell_type": "code",
   "execution_count": 24,
   "id": "8adb3be2",
   "metadata": {
    "execution": {
     "iopub.execute_input": "2024-06-22T17:16:32.805940Z",
     "iopub.status.busy": "2024-06-22T17:16:32.805500Z",
     "iopub.status.idle": "2024-06-22T17:16:38.632266Z",
     "shell.execute_reply": "2024-06-22T17:16:38.630941Z"
    },
    "papermill": {
     "duration": 5.845485,
     "end_time": "2024-06-22T17:16:38.634990",
     "exception": false,
     "start_time": "2024-06-22T17:16:32.789505",
     "status": "completed"
    },
    "tags": []
   },
   "outputs": [
    {
     "name": "stdout",
     "output_type": "stream",
     "text": [
      "Index(['Time', 'V1', 'V2', 'V3', 'V4', 'V5', 'V6', 'V7', 'V8', 'V9', 'V10',\n",
      "       'V11', 'V12', 'V13', 'V14', 'V15', 'V16', 'V17', 'V18', 'V19', 'V20',\n",
      "       'V21', 'V22', 'V23', 'V24', 'V25', 'V26', 'V27', 'V28', 'Amount',\n",
      "       'Class'],\n",
      "      dtype='object')\n",
      "<class 'pandas.core.frame.DataFrame'>\n",
      "RangeIndex: 284807 entries, 0 to 284806\n",
      "Data columns (total 31 columns):\n",
      " #   Column  Non-Null Count   Dtype  \n",
      "---  ------  --------------   -----  \n",
      " 0   Time    284807 non-null  float64\n",
      " 1   V1      284807 non-null  float64\n",
      " 2   V2      284807 non-null  float64\n",
      " 3   V3      284807 non-null  float64\n",
      " 4   V4      284807 non-null  float64\n",
      " 5   V5      284807 non-null  float64\n",
      " 6   V6      284807 non-null  float64\n",
      " 7   V7      284807 non-null  float64\n",
      " 8   V8      284807 non-null  float64\n",
      " 9   V9      284807 non-null  float64\n",
      " 10  V10     284807 non-null  float64\n",
      " 11  V11     284807 non-null  float64\n",
      " 12  V12     284807 non-null  float64\n",
      " 13  V13     284807 non-null  float64\n",
      " 14  V14     284807 non-null  float64\n",
      " 15  V15     284807 non-null  float64\n",
      " 16  V16     284807 non-null  float64\n",
      " 17  V17     284807 non-null  float64\n",
      " 18  V18     284807 non-null  float64\n",
      " 19  V19     284807 non-null  float64\n",
      " 20  V20     284807 non-null  float64\n",
      " 21  V21     284807 non-null  float64\n",
      " 22  V22     284807 non-null  float64\n",
      " 23  V23     284807 non-null  float64\n",
      " 24  V24     284807 non-null  float64\n",
      " 25  V25     284807 non-null  float64\n",
      " 26  V26     284807 non-null  float64\n",
      " 27  V27     284807 non-null  float64\n",
      " 28  V28     284807 non-null  float64\n",
      " 29  Amount  284807 non-null  float64\n",
      " 30  Class   284807 non-null  int64  \n",
      "dtypes: float64(30), int64(1)\n",
      "memory usage: 67.4 MB\n"
     ]
    }
   ],
   "source": [
    "import pandas as pd\n",
    "from sklearn.model_selection import train_test_split\n",
    "\n",
    "# Load the dataset\n",
    "df = pd.read_csv(\"/kaggle/input/creditcardfraud/creditcard.csv\")  # replace with your dataset path\n",
    "\n",
    "# Print the column names to find the correct target column name\n",
    "print(df.columns)\n",
    "credit_card_data = pd.read_csv(\"/kaggle/input/creditcardfraud/creditcard.csv\")\n",
    "credit_card_data.info()\n",
    "legit = credit_card_data[credit_card_data.Class ==0]\n",
    "fraud = credit_card_data[credit_card_data.Class ==1]\n",
    "legit_sample = legit.sample(n=492)\n",
    "new_dataset = pd.concat([legit_sample,fraud],axis=0)\n",
    "\n",
    "X = new_dataset.drop(columns='Class',axis=0)\n",
    "Y = new_dataset['Class']\n",
    "\n",
    "# Splitting the data into training and testing data\n",
    "X_train, X_test, Y_train, Y_test = train_test_split(X, Y, test_size=0.2, stratify=Y, random_state=42)\n"
   ]
  },
  {
   "cell_type": "code",
   "execution_count": 25,
   "id": "9e1d4308",
   "metadata": {
    "execution": {
     "iopub.execute_input": "2024-06-22T17:16:38.665978Z",
     "iopub.status.busy": "2024-06-22T17:16:38.665595Z",
     "iopub.status.idle": "2024-06-22T17:16:38.671685Z",
     "shell.execute_reply": "2024-06-22T17:16:38.670575Z"
    },
    "papermill": {
     "duration": 0.024549,
     "end_time": "2024-06-22T17:16:38.674206",
     "exception": false,
     "start_time": "2024-06-22T17:16:38.649657",
     "status": "completed"
    },
    "tags": []
   },
   "outputs": [
    {
     "name": "stdout",
     "output_type": "stream",
     "text": [
      "(984, 30) (787, 30) (197, 30)\n"
     ]
    }
   ],
   "source": [
    "print(X.shape,X_train.shape,X_test.shape)"
   ]
  },
  {
   "cell_type": "code",
   "execution_count": 26,
   "id": "3ed7366b",
   "metadata": {
    "execution": {
     "iopub.execute_input": "2024-06-22T17:16:38.706303Z",
     "iopub.status.busy": "2024-06-22T17:16:38.705881Z",
     "iopub.status.idle": "2024-06-22T17:16:38.711556Z",
     "shell.execute_reply": "2024-06-22T17:16:38.710464Z"
    },
    "papermill": {
     "duration": 0.024902,
     "end_time": "2024-06-22T17:16:38.714070",
     "exception": false,
     "start_time": "2024-06-22T17:16:38.689168",
     "status": "completed"
    },
    "tags": []
   },
   "outputs": [],
   "source": [
    "#model training logistic regression\n",
    "import pandas as pd\n",
    "from sklearn.model_selection import train_test_split\n",
    "from sklearn.linear_model import LogisticRegression\n",
    "from sklearn.metrics import accuracy_score\n",
    "\n"
   ]
  },
  {
   "cell_type": "code",
   "execution_count": 27,
   "id": "77b9d031",
   "metadata": {
    "execution": {
     "iopub.execute_input": "2024-06-22T17:16:38.745613Z",
     "iopub.status.busy": "2024-06-22T17:16:38.745205Z",
     "iopub.status.idle": "2024-06-22T17:16:38.822509Z",
     "shell.execute_reply": "2024-06-22T17:16:38.821115Z"
    },
    "papermill": {
     "duration": 0.100195,
     "end_time": "2024-06-22T17:16:38.829144",
     "exception": false,
     "start_time": "2024-06-22T17:16:38.728949",
     "status": "completed"
    },
    "tags": []
   },
   "outputs": [
    {
     "name": "stderr",
     "output_type": "stream",
     "text": [
      "/opt/conda/lib/python3.10/site-packages/sklearn/linear_model/_logistic.py:458: ConvergenceWarning: lbfgs failed to converge (status=1):\n",
      "STOP: TOTAL NO. of ITERATIONS REACHED LIMIT.\n",
      "\n",
      "Increase the number of iterations (max_iter) or scale the data as shown in:\n",
      "    https://scikit-learn.org/stable/modules/preprocessing.html\n",
      "Please also refer to the documentation for alternative solver options:\n",
      "    https://scikit-learn.org/stable/modules/linear_model.html#logistic-regression\n",
      "  n_iter_i = _check_optimize_result(\n"
     ]
    },
    {
     "data": {
      "text/html": [
       "<style>#sk-container-id-1 {color: black;background-color: white;}#sk-container-id-1 pre{padding: 0;}#sk-container-id-1 div.sk-toggleable {background-color: white;}#sk-container-id-1 label.sk-toggleable__label {cursor: pointer;display: block;width: 100%;margin-bottom: 0;padding: 0.3em;box-sizing: border-box;text-align: center;}#sk-container-id-1 label.sk-toggleable__label-arrow:before {content: \"▸\";float: left;margin-right: 0.25em;color: #696969;}#sk-container-id-1 label.sk-toggleable__label-arrow:hover:before {color: black;}#sk-container-id-1 div.sk-estimator:hover label.sk-toggleable__label-arrow:before {color: black;}#sk-container-id-1 div.sk-toggleable__content {max-height: 0;max-width: 0;overflow: hidden;text-align: left;background-color: #f0f8ff;}#sk-container-id-1 div.sk-toggleable__content pre {margin: 0.2em;color: black;border-radius: 0.25em;background-color: #f0f8ff;}#sk-container-id-1 input.sk-toggleable__control:checked~div.sk-toggleable__content {max-height: 200px;max-width: 100%;overflow: auto;}#sk-container-id-1 input.sk-toggleable__control:checked~label.sk-toggleable__label-arrow:before {content: \"▾\";}#sk-container-id-1 div.sk-estimator input.sk-toggleable__control:checked~label.sk-toggleable__label {background-color: #d4ebff;}#sk-container-id-1 div.sk-label input.sk-toggleable__control:checked~label.sk-toggleable__label {background-color: #d4ebff;}#sk-container-id-1 input.sk-hidden--visually {border: 0;clip: rect(1px 1px 1px 1px);clip: rect(1px, 1px, 1px, 1px);height: 1px;margin: -1px;overflow: hidden;padding: 0;position: absolute;width: 1px;}#sk-container-id-1 div.sk-estimator {font-family: monospace;background-color: #f0f8ff;border: 1px dotted black;border-radius: 0.25em;box-sizing: border-box;margin-bottom: 0.5em;}#sk-container-id-1 div.sk-estimator:hover {background-color: #d4ebff;}#sk-container-id-1 div.sk-parallel-item::after {content: \"\";width: 100%;border-bottom: 1px solid gray;flex-grow: 1;}#sk-container-id-1 div.sk-label:hover label.sk-toggleable__label {background-color: #d4ebff;}#sk-container-id-1 div.sk-serial::before {content: \"\";position: absolute;border-left: 1px solid gray;box-sizing: border-box;top: 0;bottom: 0;left: 50%;z-index: 0;}#sk-container-id-1 div.sk-serial {display: flex;flex-direction: column;align-items: center;background-color: white;padding-right: 0.2em;padding-left: 0.2em;position: relative;}#sk-container-id-1 div.sk-item {position: relative;z-index: 1;}#sk-container-id-1 div.sk-parallel {display: flex;align-items: stretch;justify-content: center;background-color: white;position: relative;}#sk-container-id-1 div.sk-item::before, #sk-container-id-1 div.sk-parallel-item::before {content: \"\";position: absolute;border-left: 1px solid gray;box-sizing: border-box;top: 0;bottom: 0;left: 50%;z-index: -1;}#sk-container-id-1 div.sk-parallel-item {display: flex;flex-direction: column;z-index: 1;position: relative;background-color: white;}#sk-container-id-1 div.sk-parallel-item:first-child::after {align-self: flex-end;width: 50%;}#sk-container-id-1 div.sk-parallel-item:last-child::after {align-self: flex-start;width: 50%;}#sk-container-id-1 div.sk-parallel-item:only-child::after {width: 0;}#sk-container-id-1 div.sk-dashed-wrapped {border: 1px dashed gray;margin: 0 0.4em 0.5em 0.4em;box-sizing: border-box;padding-bottom: 0.4em;background-color: white;}#sk-container-id-1 div.sk-label label {font-family: monospace;font-weight: bold;display: inline-block;line-height: 1.2em;}#sk-container-id-1 div.sk-label-container {text-align: center;}#sk-container-id-1 div.sk-container {/* jupyter's `normalize.less` sets `[hidden] { display: none; }` but bootstrap.min.css set `[hidden] { display: none !important; }` so we also need the `!important` here to be able to override the default hidden behavior on the sphinx rendered scikit-learn.org. See: https://github.com/scikit-learn/scikit-learn/issues/21755 */display: inline-block !important;position: relative;}#sk-container-id-1 div.sk-text-repr-fallback {display: none;}</style><div id=\"sk-container-id-1\" class=\"sk-top-container\"><div class=\"sk-text-repr-fallback\"><pre>LogisticRegression()</pre><b>In a Jupyter environment, please rerun this cell to show the HTML representation or trust the notebook. <br />On GitHub, the HTML representation is unable to render, please try loading this page with nbviewer.org.</b></div><div class=\"sk-container\" hidden><div class=\"sk-item\"><div class=\"sk-estimator sk-toggleable\"><input class=\"sk-toggleable__control sk-hidden--visually\" id=\"sk-estimator-id-1\" type=\"checkbox\" checked><label for=\"sk-estimator-id-1\" class=\"sk-toggleable__label sk-toggleable__label-arrow\">LogisticRegression</label><div class=\"sk-toggleable__content\"><pre>LogisticRegression()</pre></div></div></div></div></div>"
      ],
      "text/plain": [
       "LogisticRegression()"
      ]
     },
     "execution_count": 27,
     "metadata": {},
     "output_type": "execute_result"
    }
   ],
   "source": [
    "model = LogisticRegression()\n",
    "model.fit(X_train, Y_train)\n"
   ]
  },
  {
   "cell_type": "code",
   "execution_count": 28,
   "id": "7244b690",
   "metadata": {
    "execution": {
     "iopub.execute_input": "2024-06-22T17:16:38.896224Z",
     "iopub.status.busy": "2024-06-22T17:16:38.895600Z",
     "iopub.status.idle": "2024-06-22T17:16:38.913801Z",
     "shell.execute_reply": "2024-06-22T17:16:38.912398Z"
    },
    "papermill": {
     "duration": 0.055987,
     "end_time": "2024-06-22T17:16:38.917565",
     "exception": false,
     "start_time": "2024-06-22T17:16:38.861578",
     "status": "completed"
    },
    "tags": []
   },
   "outputs": [
    {
     "name": "stdout",
     "output_type": "stream",
     "text": [
      "Accuracy on Training data: 0.940279542566709\n"
     ]
    }
   ],
   "source": [
    "X_train_prediction = model.predict(X_train)\n",
    "training_data_accuracy = accuracy_score(Y_train, X_train_prediction)\n",
    "print('Accuracy on Training data:', training_data_accuracy)\n"
   ]
  },
  {
   "cell_type": "markdown",
   "id": "c7466bd1",
   "metadata": {
    "papermill": {
     "duration": 0.032175,
     "end_time": "2024-06-22T17:16:38.981940",
     "exception": false,
     "start_time": "2024-06-22T17:16:38.949765",
     "status": "completed"
    },
    "tags": []
   },
   "source": [
    "accuracy score\n"
   ]
  },
  {
   "cell_type": "code",
   "execution_count": 29,
   "id": "04f8f0b9",
   "metadata": {
    "execution": {
     "iopub.execute_input": "2024-06-22T17:16:39.037969Z",
     "iopub.status.busy": "2024-06-22T17:16:39.037598Z",
     "iopub.status.idle": "2024-06-22T17:16:39.047075Z",
     "shell.execute_reply": "2024-06-22T17:16:39.046173Z"
    },
    "papermill": {
     "duration": 0.034115,
     "end_time": "2024-06-22T17:16:39.049365",
     "exception": false,
     "start_time": "2024-06-22T17:16:39.015250",
     "status": "completed"
    },
    "tags": []
   },
   "outputs": [],
   "source": [
    "# accuracy on testing data\n",
    "X_test_prediction = model.predict(X_test)\n",
    "test_data_accuracy = accuracy_score(X_test_prediction,Y_test)"
   ]
  },
  {
   "cell_type": "code",
   "execution_count": 30,
   "id": "4b7b6f7b",
   "metadata": {
    "execution": {
     "iopub.execute_input": "2024-06-22T17:16:39.081370Z",
     "iopub.status.busy": "2024-06-22T17:16:39.081001Z",
     "iopub.status.idle": "2024-06-22T17:16:39.086910Z",
     "shell.execute_reply": "2024-06-22T17:16:39.085857Z"
    },
    "papermill": {
     "duration": 0.024986,
     "end_time": "2024-06-22T17:16:39.089449",
     "exception": false,
     "start_time": "2024-06-22T17:16:39.064463",
     "status": "completed"
    },
    "tags": []
   },
   "outputs": [
    {
     "name": "stdout",
     "output_type": "stream",
     "text": [
      "Accuracy on Test data: 0.949238578680203\n"
     ]
    }
   ],
   "source": [
    "print('Accuracy on Test data:', test_data_accuracy)\n"
   ]
  }
 ],
 "metadata": {
  "kaggle": {
   "accelerator": "none",
   "dataSources": [
    {
     "datasetId": 310,
     "sourceId": 23498,
     "sourceType": "datasetVersion"
    }
   ],
   "dockerImageVersionId": 30732,
   "isGpuEnabled": false,
   "isInternetEnabled": false,
   "language": "python",
   "sourceType": "notebook"
  },
  "kernelspec": {
   "display_name": "Python 3",
   "language": "python",
   "name": "python3"
  },
  "language_info": {
   "codemirror_mode": {
    "name": "ipython",
    "version": 3
   },
   "file_extension": ".py",
   "mimetype": "text/x-python",
   "name": "python",
   "nbconvert_exporter": "python",
   "pygments_lexer": "ipython3",
   "version": "3.10.13"
  },
  "papermill": {
   "default_parameters": {},
   "duration": 17.616647,
   "end_time": "2024-06-22T17:16:39.627730",
   "environment_variables": {},
   "exception": null,
   "input_path": "__notebook__.ipynb",
   "output_path": "__notebook__.ipynb",
   "parameters": {},
   "start_time": "2024-06-22T17:16:22.011083",
   "version": "2.5.0"
  }
 },
 "nbformat": 4,
 "nbformat_minor": 5
}
